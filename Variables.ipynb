{
 "cells": [
  {
   "cell_type": "code",
   "execution_count": null,
   "metadata": {
    "collapsed": true
   },
   "outputs": [],
   "source": [
    "#Local Variable vs Global variable\n",
    "Variables in simple term are the container for a particular types of Data.\n",
    "It also determines the range of values which need to be stored inside that memory \n",
    "and nature of operations that can be applied to that variable. so we can say variables are the symbolic names\n",
    "There are properties associated with a variable.\n",
    "1.Name\n",
    "2.Type\n",
    "3.Value\n",
    "4.Scope\n",
    "\n",
    "Scope of a variable is called the lifetime of a variable. till how long  one variavle is alive  or applicable.\n",
    "\n",
    "if we declare a variable inside a function. The scope of that variable remains inside that function \n",
    "it can’t be used outside of that function.\n",
    "\n",
    "There are 3 places the variable can be declare in a programms.\n",
    " Local variables: inside a function\n",
    " Global Variable: Outside of the function\n",
    " formal paramter: in defination of function\n",
    " Key difference:\n",
    "    local variables created when the function has started execution and alive till the function terminates. \n",
    "    Global variables created when executions starts and lost when programm ends.\n",
    "    local variable does not support data ssharing but Glabl variable supports data sharing.\n",
    "    local variable superseds  global variable\n",
    "    \n",
    "##functions always prefer local variables.   \n",
    "    \n",
    "\n",
    "    "
   ]
  },
  {
   "cell_type": "code",
   "execution_count": 6,
   "metadata": {
    "collapsed": true
   },
   "outputs": [],
   "source": [
    "def myfun1():\n",
    "    y=1\n",
    "    print(y)"
   ]
  },
  {
   "cell_type": "code",
   "execution_count": 7,
   "metadata": {},
   "outputs": [
    {
     "name": "stdout",
     "output_type": "stream",
     "text": [
      "1\n"
     ]
    }
   ],
   "source": [
    "myfun1()"
   ]
  },
  {
   "cell_type": "code",
   "execution_count": 9,
   "metadata": {},
   "outputs": [],
   "source": [
    "#Example of Local Variable\n",
    "def myfun2():\n",
    "    number111=12  # local variable\n",
    "    return number111"
   ]
  },
  {
   "cell_type": "code",
   "execution_count": 10,
   "metadata": {},
   "outputs": [
    {
     "data": {
      "text/plain": [
       "12"
      ]
     },
     "execution_count": 10,
     "metadata": {},
     "output_type": "execute_result"
    }
   ],
   "source": [
    "myfun2()"
   ]
  },
  {
   "cell_type": "code",
   "execution_count": 12,
   "metadata": {
    "collapsed": true
   },
   "outputs": [],
   "source": [
    "#Example of Global Variable\n",
    "number111=11 # local variable\n",
    "def myfun2():\n",
    "    number111=12  # local variable\n",
    "    return number111"
   ]
  },
  {
   "cell_type": "code",
   "execution_count": 13,
   "metadata": {},
   "outputs": [
    {
     "data": {
      "text/plain": [
       "12"
      ]
     },
     "execution_count": 13,
     "metadata": {},
     "output_type": "execute_result"
    }
   ],
   "source": [
    "myfun2()"
   ]
  },
  {
   "cell_type": "code",
   "execution_count": 14,
   "metadata": {},
   "outputs": [
    {
     "data": {
      "text/plain": [
       "11"
      ]
     },
     "execution_count": 14,
     "metadata": {},
     "output_type": "execute_result"
    }
   ],
   "source": [
    "number111"
   ]
  }
 ],
 "metadata": {
  "kernelspec": {
   "display_name": "Python 3",
   "language": "python",
   "name": "python3"
  },
  "language_info": {
   "codemirror_mode": {
    "name": "ipython",
    "version": 3
   },
   "file_extension": ".py",
   "mimetype": "text/x-python",
   "name": "python",
   "nbconvert_exporter": "python",
   "pygments_lexer": "ipython3",
   "version": "3.6.1"
  }
 },
 "nbformat": 4,
 "nbformat_minor": 2
}

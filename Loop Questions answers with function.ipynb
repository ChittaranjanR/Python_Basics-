{
 "cells": [
  {
   "cell_type": "code",
   "execution_count": null,
   "metadata": {
    "collapsed": true
   },
   "outputs": [],
   "source": [
    "# function  is a small block of code defined with a name useed for repeatative long codes\n",
    "Function improves efficiency and reduces errors because of the reusability of a code. \n",
    "Once we create a function, we can call it anywhere and anytime. \n",
    "The benefit of using a function is reusability and modularity.\n",
    "\n",
    "There are 4 types of function in python.\n",
    "\n",
    "    1.User defind function.\n",
    "    2.build-in function\n",
    "    3.lambda function\n",
    "    4.Recursion function\n",
    "\n",
    "def key word used to create function\n",
    "del function delete a function"
   ]
  },
  {
   "cell_type": "code",
   "execution_count": 1,
   "metadata": {
    "collapsed": true
   },
   "outputs": [],
   "source": [
    "# Take 10 integers from keyboard using loop and print their average value on the screen.\n",
    "def myfunction():\n",
    "    num=0\n",
    "    avg=0\n",
    "    num1=0\n",
    "    for i in range(10):\n",
    "        num = int(input('Enter a number: '))\n",
    "        num1=num1+num\n",
    "        avg=num1/10\n",
    "    print(avg)"
   ]
  },
  {
   "cell_type": "code",
   "execution_count": 2,
   "metadata": {},
   "outputs": [
    {
     "name": "stdout",
     "output_type": "stream",
     "text": [
      "Enter a number: 1\n",
      "Enter a number: 2\n",
      "Enter a number: 3\n",
      "Enter a number: 5\n",
      "Enter a number: 6\n",
      "Enter a number: 4\n",
      "Enter a number: 7\n",
      "Enter a number: 8\n",
      "Enter a number: 9\n",
      "Enter a number: 10\n",
      "5.5\n"
     ]
    }
   ],
   "source": [
    "myfunction()\n"
   ]
  },
  {
   "cell_type": "code",
   "execution_count": 20,
   "metadata": {
    "collapsed": true
   },
   "outputs": [],
   "source": [
    "#print multiple star patterns using for loop.\n",
    "def myfun2():\n",
    "    \n",
    "    for i in range(10):\n",
    "        print('*'*i)\n",
    "    \n"
   ]
  },
  {
   "cell_type": "code",
   "execution_count": 21,
   "metadata": {},
   "outputs": [
    {
     "name": "stdout",
     "output_type": "stream",
     "text": [
      "\n",
      "*\n",
      "**\n",
      "***\n",
      "****\n",
      "*****\n",
      "******\n",
      "*******\n",
      "********\n",
      "*********\n"
     ]
    }
   ],
   "source": [
    "myfun2()"
   ]
  },
  {
   "cell_type": "code",
   "execution_count": 25,
   "metadata": {
    "collapsed": true
   },
   "outputs": [],
   "source": [
    "#print multiple star patterns using for loop.\n",
    "def myfun2():\n",
    "    \n",
    "    for i in range(10):\n",
    "        print('*'*i)\n",
    "    for j in range(10):\n",
    "        print('*'*(10-j))"
   ]
  },
  {
   "cell_type": "code",
   "execution_count": 26,
   "metadata": {},
   "outputs": [
    {
     "name": "stdout",
     "output_type": "stream",
     "text": [
      "\n",
      "*\n",
      "**\n",
      "***\n",
      "****\n",
      "*****\n",
      "******\n",
      "*******\n",
      "********\n",
      "*********\n",
      "**********\n",
      "*********\n",
      "********\n",
      "*******\n",
      "******\n",
      "*****\n",
      "****\n",
      "***\n",
      "**\n",
      "*\n"
     ]
    }
   ],
   "source": [
    "myfun2()"
   ]
  },
  {
   "cell_type": "code",
   "execution_count": 36,
   "metadata": {
    "collapsed": true
   },
   "outputs": [],
   "source": [
    "#Print multiplication table of 13, 21 and 29 using loop.\n",
    "def myfun3():\n",
    "    print('Multiplicationtable of 13')\n",
    "    for i in range(1,11,1):\n",
    "        print('13 *',i,'=',13*i)\n",
    "    print('Multiplicationtable of 21')\n",
    "    for i in range(1,11,1):\n",
    "        print('21 *',i,'=',21*i)\n",
    "    print('Multiplicationtable of 29')\n",
    "    for i in range(1,11,1):\n",
    "        print('29 *',i,'=',29*i)\n"
   ]
  },
  {
   "cell_type": "code",
   "execution_count": 37,
   "metadata": {},
   "outputs": [
    {
     "name": "stdout",
     "output_type": "stream",
     "text": [
      "Multiplicationtable of 13\n",
      "13 * 1 = 13\n",
      "13 * 2 = 26\n",
      "13 * 3 = 39\n",
      "13 * 4 = 52\n",
      "13 * 5 = 65\n",
      "13 * 6 = 78\n",
      "13 * 7 = 91\n",
      "13 * 8 = 104\n",
      "13 * 9 = 117\n",
      "13 * 10 = 130\n",
      "Multiplicationtable of 21\n",
      "21 * 1 = 21\n",
      "21 * 2 = 42\n",
      "21 * 3 = 63\n",
      "21 * 4 = 84\n",
      "21 * 5 = 105\n",
      "21 * 6 = 126\n",
      "21 * 7 = 147\n",
      "21 * 8 = 168\n",
      "21 * 9 = 189\n",
      "21 * 10 = 210\n",
      "Multiplicationtable of 29\n",
      "29 * 1 = 29\n",
      "29 * 2 = 58\n",
      "29 * 3 = 87\n",
      "29 * 4 = 116\n",
      "29 * 5 = 145\n",
      "29 * 6 = 174\n",
      "29 * 7 = 203\n",
      "29 * 8 = 232\n",
      "29 * 9 = 261\n",
      "29 * 10 = 290\n"
     ]
    }
   ],
   "source": [
    "myfun3()"
   ]
  },
  {
   "cell_type": "code",
   "execution_count": 39,
   "metadata": {
    "collapsed": true
   },
   "outputs": [],
   "source": [
    "# To print the square of all numbers from 0 to 10\n",
    "def myfun4():\n",
    "    for i in range(0,11,1):\n",
    "        print('Square of ',i,'=',i*i)\n"
   ]
  },
  {
   "cell_type": "code",
   "execution_count": 40,
   "metadata": {},
   "outputs": [
    {
     "name": "stdout",
     "output_type": "stream",
     "text": [
      "Square of  0 = 0\n",
      "Square of  1 = 1\n",
      "Square of  2 = 4\n",
      "Square of  3 = 9\n",
      "Square of  4 = 16\n",
      "Square of  5 = 25\n",
      "Square of  6 = 36\n",
      "Square of  7 = 49\n",
      "Square of  8 = 64\n",
      "Square of  9 = 81\n",
      "Square of  10 = 100\n"
     ]
    }
   ],
   "source": [
    "myfun4()"
   ]
  },
  {
   "cell_type": "code",
   "execution_count": 41,
   "metadata": {
    "collapsed": true
   },
   "outputs": [],
   "source": [
    "# To print the square of all numbers from 0 to 10\n",
    "def myfun4():\n",
    "    for i in range(0,11,1):\n",
    "        print('Square of ',i,'=',i**2)"
   ]
  },
  {
   "cell_type": "code",
   "execution_count": 42,
   "metadata": {},
   "outputs": [
    {
     "name": "stdout",
     "output_type": "stream",
     "text": [
      "Square of  0 = 0\n",
      "Square of  1 = 1\n",
      "Square of  2 = 4\n",
      "Square of  3 = 9\n",
      "Square of  4 = 16\n",
      "Square of  5 = 25\n",
      "Square of  6 = 36\n",
      "Square of  7 = 49\n",
      "Square of  8 = 64\n",
      "Square of  9 = 81\n",
      "Square of  10 = 100\n"
     ]
    }
   ],
   "source": [
    "myfun4()"
   ]
  },
  {
   "cell_type": "code",
   "execution_count": 43,
   "metadata": {
    "collapsed": true
   },
   "outputs": [],
   "source": [
    "# To print the cube of all numbers from 0 to 10\n",
    "def myfun4():\n",
    "    for i in range(0,11,1):\n",
    "        print('Cube of ',i,'=',i**3)"
   ]
  },
  {
   "cell_type": "code",
   "execution_count": 44,
   "metadata": {},
   "outputs": [
    {
     "name": "stdout",
     "output_type": "stream",
     "text": [
      "Cube of  0 = 0\n",
      "Cube of  1 = 1\n",
      "Cube of  2 = 8\n",
      "Cube of  3 = 27\n",
      "Cube of  4 = 64\n",
      "Cube of  5 = 125\n",
      "Cube of  6 = 216\n",
      "Cube of  7 = 343\n",
      "Cube of  8 = 512\n",
      "Cube of  9 = 729\n",
      "Cube of  10 = 1000\n"
     ]
    }
   ],
   "source": [
    "myfun4()"
   ]
  },
  {
   "cell_type": "code",
   "execution_count": 59,
   "metadata": {
    "collapsed": true
   },
   "outputs": [],
   "source": [
    "#to find the sum of all odd and even numbers from 0 to 10\n",
    "def myfun4():\n",
    "    list=[]\n",
    "    sume=0\n",
    "    for i in range(0,11,1):\n",
    "        if i%2==0 and i>0:\n",
    "            sume=sume+i\n",
    "    print('Sum of even numbers:',sume)\n",
    "    sumodd=0\n",
    "    for i in range(0,11,1):\n",
    "        if i%2==1 and i>0:\n",
    "            sumodd=sumodd+i\n",
    "    print('Sum of odd numbers:',sumodd)\n",
    "    "
   ]
  },
  {
   "cell_type": "code",
   "execution_count": 60,
   "metadata": {},
   "outputs": [
    {
     "name": "stdout",
     "output_type": "stream",
     "text": [
      "Sum of even numbers: 30\n",
      "Sum of odd numbers: 25\n"
     ]
    }
   ],
   "source": [
    "myfun4()"
   ]
  },
  {
   "cell_type": "code",
   "execution_count": 81,
   "metadata": {
    "collapsed": true
   },
   "outputs": [],
   "source": [
    "# adds all the numbers up to 100. Use Continue and break statement, if the sum  is greater than 6000, stop the execution\n",
    "def myfun5():\n",
    "    sum=0\n",
    "    for i in range(0,101):\n",
    "        sum=sum+i\n",
    "        if sum>6000:\n",
    "            break\n",
    "        else:    \n",
    "            continue  \n",
    "    print(sum)\n"
   ]
  },
  {
   "cell_type": "code",
   "execution_count": 82,
   "metadata": {},
   "outputs": [
    {
     "name": "stdout",
     "output_type": "stream",
     "text": [
      "5050\n"
     ]
    }
   ],
   "source": [
    "myfun5()"
   ]
  },
  {
   "cell_type": "code",
   "execution_count": 121,
   "metadata": {
    "collapsed": true
   },
   "outputs": [],
   "source": [
    "#take a list with multiple duplicate items and using while loop add unique elements in another new list\n",
    "\n",
    "def myfun6():\n",
    "    list1=[1,2,3,5,4,2,5,6,8,4,5,7,8,5,1,2]\n",
    "    i=0\n",
    "    list2=[]\n",
    "    while len(list1)>=i:\n",
    "        x=list1[i]\n",
    "        if x not in list2:\n",
    "            list2.append(x)\n",
    "        i=i+1\n",
    "    print(list2)       \n"
   ]
  },
  {
   "cell_type": "code",
   "execution_count": 122,
   "metadata": {},
   "outputs": [
    {
     "name": "stdout",
     "output_type": "stream",
     "text": [
      "[1, 2, 3, 5, 4, 6, 8, 7]\n"
     ]
    }
   ],
   "source": [
    " myfun6()    "
   ]
  },
  {
   "cell_type": "code",
   "execution_count": 127,
   "metadata": {
    "collapsed": true
   },
   "outputs": [],
   "source": [
    "#to stops appending items to the new list as soon as it encounters an empty string.\n",
    "\n",
    "def myfun6():\n",
    "    list1=[1,2,3,4,5,\"\",8,9,6,5,7]\n",
    "    i=0\n",
    "    list2=[]\n",
    "    while i <len(list1):\n",
    "        x=list1[i]\n",
    "        if x==\"\":\n",
    "           \n",
    "            break\n",
    "            \n",
    "        else:\n",
    "            list2.append(x)\n",
    "            i=i+1\n",
    "    print(list2)\n"
   ]
  },
  {
   "cell_type": "code",
   "execution_count": 128,
   "metadata": {},
   "outputs": [
    {
     "name": "stdout",
     "output_type": "stream",
     "text": [
      "[1, 2, 3, 4, 5]\n"
     ]
    }
   ],
   "source": [
    "myfun6()"
   ]
  },
  {
   "cell_type": "code",
   "execution_count": 129,
   "metadata": {
    "collapsed": true
   },
   "outputs": [],
   "source": [
    "#to stops appending items to the new list as soon as it encounters an empty string.\n",
    "\n",
    "def myfun7():\n",
    "    list1=[1,2,3,4,5,\"\",8,9,6,5,7]\n",
    "    i=0\n",
    "    list2=[]\n",
    "    b=len(list1)\n",
    "    for i in range(0,b):\n",
    "        x=list1[i]\n",
    "        if x==\"\":\n",
    "            break\n",
    "        else:\n",
    "            list2.append(x)\n",
    "    print(list2)\n",
    "        \n",
    "        \n",
    "    \n",
    "    "
   ]
  },
  {
   "cell_type": "code",
   "execution_count": 130,
   "metadata": {},
   "outputs": [
    {
     "name": "stdout",
     "output_type": "stream",
     "text": [
      "[1, 2, 3, 4, 5]\n"
     ]
    }
   ],
   "source": [
    "myfun7()"
   ]
  },
  {
   "cell_type": "code",
   "execution_count": 133,
   "metadata": {
    "collapsed": true
   },
   "outputs": [],
   "source": [
    "#Program to print first 5 integer and their cubes\n",
    "def myfun7():\n",
    "    for i in range(1,6):\n",
    "        print(i,'cube =: ',i**3 )\n"
   ]
  },
  {
   "cell_type": "code",
   "execution_count": 134,
   "metadata": {},
   "outputs": [
    {
     "name": "stdout",
     "output_type": "stream",
     "text": [
      "1 cube =:  1\n",
      "2 cube =:  8\n",
      "3 cube =:  27\n",
      "4 cube =:  64\n",
      "5 cube =:  125\n"
     ]
    }
   ],
   "source": [
    "myfun7()"
   ]
  },
  {
   "cell_type": "code",
   "execution_count": 148,
   "metadata": {
    "collapsed": true
   },
   "outputs": [],
   "source": [
    "def dec_to_bin(x):\n",
    "    return int(bin(x)[2:])\n",
    "  "
   ]
  },
  {
   "cell_type": "code",
   "execution_count": 152,
   "metadata": {
    "scrolled": true
   },
   "outputs": [
    {
     "data": {
      "text/plain": [
       "1101"
      ]
     },
     "execution_count": 152,
     "metadata": {},
     "output_type": "execute_result"
    }
   ],
   "source": [
    "dec_to_bin(13)"
   ]
  },
  {
   "cell_type": "code",
   "execution_count": 8,
   "metadata": {},
   "outputs": [
    {
     "name": "stdout",
     "output_type": "stream",
     "text": [
      "1101"
     ]
    }
   ],
   "source": [
    "n=13\n",
    "i=0\n",
    "binaryNum = [0] * n\n",
    "while n>0:\n",
    "    binaryNum[i]=n%2\n",
    "    n=int(n/2)\n",
    "    i=i+1\n",
    "\n",
    "for j in range(i - 1, -1, -1):\n",
    "    print(binaryNum[j], end = \"\")"
   ]
  },
  {
   "cell_type": "code",
   "execution_count": 13,
   "metadata": {
    "collapsed": true
   },
   "outputs": [],
   "source": [
    "#Python program to find out the average of a set of integers\n",
    "def myfun8():\n",
    "    list=[1,2,3,4,5,6,7,8,9,8,7,4]\n",
    "    avg=0\n",
    "    sum=0\n",
    "    a=len(list)\n",
    "    for i in range(1,a):\n",
    "        x=list[i]\n",
    "        sum=sum+x\n",
    "        avg=sum/a\n",
    "    print(avg)\n"
   ]
  },
  {
   "cell_type": "code",
   "execution_count": 14,
   "metadata": {},
   "outputs": [
    {
     "name": "stdout",
     "output_type": "stream",
     "text": [
      "5.25\n"
     ]
    }
   ],
   "source": [
    "myfun8()"
   ]
  },
  {
   "cell_type": "code",
   "execution_count": 16,
   "metadata": {
    "collapsed": true
   },
   "outputs": [],
   "source": [
    "# to display all the multiples of 3 within the range 10 to 50\n",
    "def myfun9():\n",
    "    for i in range(10,51):\n",
    "        print(i, 'Multiples of 3:',i*3)"
   ]
  },
  {
   "cell_type": "code",
   "execution_count": 17,
   "metadata": {},
   "outputs": [
    {
     "name": "stdout",
     "output_type": "stream",
     "text": [
      "10 Multiples of 3: 30\n",
      "11 Multiples of 3: 33\n",
      "12 Multiples of 3: 36\n",
      "13 Multiples of 3: 39\n",
      "14 Multiples of 3: 42\n",
      "15 Multiples of 3: 45\n",
      "16 Multiples of 3: 48\n",
      "17 Multiples of 3: 51\n",
      "18 Multiples of 3: 54\n",
      "19 Multiples of 3: 57\n",
      "20 Multiples of 3: 60\n",
      "21 Multiples of 3: 63\n",
      "22 Multiples of 3: 66\n",
      "23 Multiples of 3: 69\n",
      "24 Multiples of 3: 72\n",
      "25 Multiples of 3: 75\n",
      "26 Multiples of 3: 78\n",
      "27 Multiples of 3: 81\n",
      "28 Multiples of 3: 84\n",
      "29 Multiples of 3: 87\n",
      "30 Multiples of 3: 90\n",
      "31 Multiples of 3: 93\n",
      "32 Multiples of 3: 96\n",
      "33 Multiples of 3: 99\n",
      "34 Multiples of 3: 102\n",
      "35 Multiples of 3: 105\n",
      "36 Multiples of 3: 108\n",
      "37 Multiples of 3: 111\n",
      "38 Multiples of 3: 114\n",
      "39 Multiples of 3: 117\n",
      "40 Multiples of 3: 120\n",
      "41 Multiples of 3: 123\n",
      "42 Multiples of 3: 126\n",
      "43 Multiples of 3: 129\n",
      "44 Multiples of 3: 132\n",
      "45 Multiples of 3: 135\n",
      "46 Multiples of 3: 138\n",
      "47 Multiples of 3: 141\n",
      "48 Multiples of 3: 144\n",
      "49 Multiples of 3: 147\n",
      "50 Multiples of 3: 150\n"
     ]
    }
   ],
   "source": [
    " myfun9()"
   ]
  },
  {
   "cell_type": "code",
   "execution_count": 44,
   "metadata": {
    "collapsed": true
   },
   "outputs": [],
   "source": [
    "#Program to generate the prime numbers from 1 to N\n",
    "def myfun10():\n",
    "    list2=[]\n",
    "    till=int(input(\"enter the number n:\"))\n",
    "    for num in range(2,till+1):\n",
    "        i=2\n",
    "        for i in range(2,num):\n",
    "            if num%i==0:\n",
    "                i=num\n",
    "                break\n",
    "            if i !=num:\n",
    "                list2.append(num)\n",
    "    print(set(list2))\n",
    "              "
   ]
  },
  {
   "cell_type": "code",
   "execution_count": 45,
   "metadata": {},
   "outputs": [
    {
     "name": "stdout",
     "output_type": "stream",
     "text": [
      "enter the number n:15\n",
      "{3, 5, 7, 9, 11, 13, 15}\n"
     ]
    }
   ],
   "source": [
    "myfun10()"
   ]
  },
  {
   "cell_type": "code",
   "execution_count": 52,
   "metadata": {},
   "outputs": [
    {
     "name": "stdout",
     "output_type": "stream",
     "text": [
      " Please Enter any Number: 2\n",
      "Prime numbers between 1 and 2 are:\n",
      "2\n"
     ]
    }
   ],
   "source": [
    "# Python Program to print n prime number using for loop\n",
    "  \n",
    "Number = int(input(\" Please Enter any Number: \"))\n",
    " \n",
    "print(\"Prime numbers between\", 1, \"and\", Number, \"are:\")\n",
    " \n",
    "for num in range(2, Number + 1):\n",
    "   # all prime numbers are greater than 1\n",
    "   if num > 1:\n",
    "        for i in range(1, num):\n",
    "            if (num % i) == 0:\n",
    "                break\n",
    "        else:\n",
    "            print(num)"
   ]
  },
  {
   "cell_type": "code",
   "execution_count": 65,
   "metadata": {
    "collapsed": true
   },
   "outputs": [],
   "source": [
    "#program to find the odd and even numbers in an array.\n",
    "def myfun11():\n",
    "    list1=[1,2,3,4,5,8,5,4,6,8,715,52]\n",
    "    list2=[]\n",
    "    list3=[]\n",
    "    for i in list1:\n",
    "          if i%2==0 and i not in list2:\n",
    "                list2.append(i)\n",
    "    for j in list1:\n",
    "        if j%2==1 and j not in list3:\n",
    "                list3.append(j)\n",
    "        \n",
    "    print('Even numbers are:',list2)\n",
    "    print('Odd numbers are:',list3)\n",
    "    "
   ]
  },
  {
   "cell_type": "code",
   "execution_count": 66,
   "metadata": {},
   "outputs": [
    {
     "name": "stdout",
     "output_type": "stream",
     "text": [
      "Even numbers are: [2, 4, 8, 6, 52]\n",
      "Odd numbers are: [1, 3, 5, 715]\n"
     ]
    }
   ],
   "source": [
    "myfun11()"
   ]
  },
  {
   "cell_type": "code",
   "execution_count": 72,
   "metadata": {
    "collapsed": true
   },
   "outputs": [],
   "source": [
    "#program to find the largest number in a list without using built-in functions\n",
    "def myfun12():\n",
    "    x=0\n",
    "    list1=[1,5,7,8,9,45,12,56,2300,85,619,8,45,81,52,45,78,92]\n",
    "    for i in list1:\n",
    "        if i>x:\n",
    "            x=i\n",
    "    print(x)\n"
   ]
  },
  {
   "cell_type": "code",
   "execution_count": 73,
   "metadata": {},
   "outputs": [
    {
     "name": "stdout",
     "output_type": "stream",
     "text": [
      "2300\n"
     ]
    }
   ],
   "source": [
    "myfun12()"
   ]
  },
  {
   "cell_type": "code",
   "execution_count": 81,
   "metadata": {
    "collapsed": true
   },
   "outputs": [],
   "source": [
    "#program to print all the keys, values, items in a dictionary\n",
    "def myfun13():\n",
    "    dict1={1:\"ML\",2:'Python'}\n",
    "    for key,value in dict1.items():\n",
    "        print(key,value)\n",
    "    \n",
    "\n"
   ]
  },
  {
   "cell_type": "code",
   "execution_count": 82,
   "metadata": {},
   "outputs": [
    {
     "name": "stdout",
     "output_type": "stream",
     "text": [
      "1 ML\n",
      "2 Python\n"
     ]
    }
   ],
   "source": [
    " myfun13()"
   ]
  },
  {
   "cell_type": "code",
   "execution_count": 91,
   "metadata": {
    "collapsed": true
   },
   "outputs": [],
   "source": [
    "#program to find those numbers which are divisible by 4 and multiple of 7, between 1 and 58 (both included)\n",
    "def myfun14():\n",
    "    list3=[]\n",
    "    for i in range(1,59):\n",
    "        if i%4==0 and i%7==0:\n",
    "            list3.append(i)\n",
    "    print(list3)"
   ]
  },
  {
   "cell_type": "code",
   "execution_count": 92,
   "metadata": {},
   "outputs": [
    {
     "name": "stdout",
     "output_type": "stream",
     "text": [
      "[28, 56]\n"
     ]
    }
   ],
   "source": [
    "myfun14()"
   ]
  },
  {
   "cell_type": "code",
   "execution_count": 107,
   "metadata": {
    "collapsed": true
   },
   "outputs": [],
   "source": [
    "#Prints all the numbers from 0 to 50 except multiples of 13.\n",
    "def myfun15():\n",
    "    list2=[]\n",
    "    for i in range(0,51):\n",
    "        if i%13 !=0:\n",
    "            list2.append(i)\n",
    "    \n",
    "            \n",
    "    print(list2)\n",
    "    "
   ]
  },
  {
   "cell_type": "code",
   "execution_count": 108,
   "metadata": {},
   "outputs": [
    {
     "name": "stdout",
     "output_type": "stream",
     "text": [
      "[1, 2, 3, 4, 5, 6, 7, 8, 9, 10, 11, 12, 14, 15, 16, 17, 18, 19, 20, 21, 22, 23, 24, 25, 27, 28, 29, 30, 31, 32, 33, 34, 35, 36, 37, 38, 40, 41, 42, 43, 44, 45, 46, 47, 48, 49, 50]\n"
     ]
    }
   ],
   "source": [
    "myfun15()"
   ]
  },
  {
   "cell_type": "code",
   "execution_count": 119,
   "metadata": {
    "collapsed": true
   },
   "outputs": [],
   "source": [
    "#reverse a string\n",
    "def myfun15():\n",
    "    str='Shilpa'\n",
    "    x=len(str)\n",
    "    for i in range(x-1,-1,-1):\n",
    "        print(str[i])\n",
    "    \n"
   ]
  },
  {
   "cell_type": "code",
   "execution_count": 120,
   "metadata": {},
   "outputs": [
    {
     "name": "stdout",
     "output_type": "stream",
     "text": [
      "a\n",
      "p\n",
      "l\n",
      "i\n",
      "h\n",
      "S\n"
     ]
    }
   ],
   "source": [
    "myfun15()"
   ]
  },
  {
   "cell_type": "code",
   "execution_count": null,
   "metadata": {
    "collapsed": true
   },
   "outputs": [],
   "source": []
  },
  {
   "cell_type": "code",
   "execution_count": null,
   "metadata": {
    "collapsed": true
   },
   "outputs": [],
   "source": []
  },
  {
   "cell_type": "code",
   "execution_count": null,
   "metadata": {
    "collapsed": true
   },
   "outputs": [],
   "source": []
  },
  {
   "cell_type": "code",
   "execution_count": null,
   "metadata": {
    "collapsed": true
   },
   "outputs": [],
   "source": []
  },
  {
   "cell_type": "code",
   "execution_count": null,
   "metadata": {
    "collapsed": true
   },
   "outputs": [],
   "source": []
  },
  {
   "cell_type": "code",
   "execution_count": null,
   "metadata": {
    "collapsed": true
   },
   "outputs": [],
   "source": []
  },
  {
   "cell_type": "code",
   "execution_count": null,
   "metadata": {
    "collapsed": true
   },
   "outputs": [],
   "source": []
  },
  {
   "cell_type": "code",
   "execution_count": null,
   "metadata": {
    "collapsed": true
   },
   "outputs": [],
   "source": []
  },
  {
   "cell_type": "code",
   "execution_count": null,
   "metadata": {
    "collapsed": true
   },
   "outputs": [],
   "source": []
  },
  {
   "cell_type": "code",
   "execution_count": null,
   "metadata": {
    "collapsed": true
   },
   "outputs": [],
   "source": []
  }
 ],
 "metadata": {
  "kernelspec": {
   "display_name": "Python 3",
   "language": "python",
   "name": "python3"
  },
  "language_info": {
   "codemirror_mode": {
    "name": "ipython",
    "version": 3
   },
   "file_extension": ".py",
   "mimetype": "text/x-python",
   "name": "python",
   "nbconvert_exporter": "python",
   "pygments_lexer": "ipython3",
   "version": "3.6.1"
  }
 },
 "nbformat": 4,
 "nbformat_minor": 2
}
